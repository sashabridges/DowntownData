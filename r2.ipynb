{
 "cells": [
  {
   "cell_type": "code",
   "execution_count": 1,
   "metadata": {},
   "outputs": [],
   "source": [
    "# Import dependencies\n",
    "%matplotlib inline\n",
    "import matplotlib.pyplot as plt\n",
    "import numpy as np\n",
    "import pandas as pd"
   ]
  },
  {
   "cell_type": "code",
   "execution_count": 4,
   "metadata": {},
   "outputs": [
    {
     "data": {
      "text/plain": [
       "<bound method NDFrame.head of      Offense           Description          Type  Count\n",
       "0        101  Homicide/Non Neglige      Violent     183\n",
       "1        121  Justifiable Homicide      Violent      14\n",
       "2        201                  Rape      Violent     655\n",
       "3        210       Forcible Sodomy      Violent     384\n",
       "4        220   Sexual Assault with      Violent       4\n",
       "5        230     Forcible Fondling      Violent      17\n",
       "6        301    Strong Arm Robbery      Violent    1941\n",
       "7        302         Armed Robbery      Violent    4158\n",
       "8        401    Aggravated Assault      Violent    6958\n",
       "9        402  Agg Assault - Drive-      Violent     689\n",
       "10       403  Agg Assault - Domest      Violent    2999\n",
       "11       501  Burglary - Residence      Property   8227\n",
       "12       502  Burglary - Non Resid      Property   2288\n",
       "13       610   Stealing Pickpocket      Property    153\n",
       "14       620  Stealing Purse Snatc      Property     99\n",
       "15       630  Stealing Shoplifting      Property   5796\n",
       "16       640    Stealing From Auto      Property   9302\n",
       "17       650  Stealing Auto Parts/      Property   3988\n",
       "18       660     Stealing Bicycles      Property    160\n",
       "19       670  Stealing from Buildi      Property   4966\n",
       "20       680  Stealing Coin Operat      Property     40\n",
       "21       690    Stealing All Other      Property   4648\n",
       "22       702            Auto Theft      Property   9281\n",
       "23       799  Auto Theft Outside S      Property    891\n",
       "24       801  Non Aggravated Assau  Non-Violent    6382\n",
       "25       802  Non Agg Assault Dome  Non-Violent    8857\n",
       "26       820              Stalking  Non-Violent      29\n",
       "27       831          Intimidation  Non-Violent    1593\n",
       "28       840  Resisting an Officer  Non-Violent    1853\n",
       "29       842  Resisting an Officer  Non-Violent       5\n",
       "..       ...                   ...           ...    ...\n",
       "71      2501              Vagrancy  Non-Violent       2\n",
       "72      2530             Loitering  Non-Violent      32\n",
       "73      2601        Misc Violation  Non-Violent    4104\n",
       "74      2602  Bomb Threat/Intimida  Non-Violent     106\n",
       "75      2603              False ID  Non-Violent      19\n",
       "76      2604  False Information to  Non-Violent     301\n",
       "77      2655           Trespassing  Non-Violent    3377\n",
       "78      2661  Kidnapping/Abduction  Non-Violent     222\n",
       "79      2662   Extortion/Blackmail  Non-Violent      18\n",
       "80      2663    Passing Bad Checks  Non-Violent      13\n",
       "81      2664                Curfew  Non-Violent      34\n",
       "82      2665           Peeping Tom  Non-Violent       3\n",
       "83      2693  Hit and Run of a Per  Non-Violent      14\n",
       "84      2954  Missing/Runaway Juve  Non-Violent       7\n",
       "85      3010  Casualty (includes a  Non-Violent      11\n",
       "86      3020             Dead Body  Non-Violent      75\n",
       "87      3036        Animal Cruelty  Non-Violent       4\n",
       "88      3060    Suicide By Cutting  Non-Violent       1\n",
       "89      3063    Suicide By Hanging  Non-Violent       1\n",
       "90      3066   Suicide By Shooting  Non-Violent       2\n",
       "91      3067   Suicide By Sleeping  Non-Violent      11\n",
       "92      3069  Suicide by Other Mea  Non-Violent       2\n",
       "93      3070  Attempt Suicide by C  Non-Violent      33\n",
       "94      3072  Attempt Suicide by G  Non-Violent       1\n",
       "95      3073  Attempt Suicide by H  Non-Violent      11\n",
       "96      3074  Attempt Suicide by J  Non-Violent       4\n",
       "97      3075  Attempt Suicide by P  Non-Violent       6\n",
       "98      3076  Attempt Suicide by S  Non-Violent       3\n",
       "99      3077  Attempt Suicide by S  Non-Violent      84\n",
       "100     3079  Attempt Suicide by O  Non-Violent      28\n",
       "\n",
       "[101 rows x 4 columns]>"
      ]
     },
     "execution_count": 4,
     "metadata": {},
     "output_type": "execute_result"
    }
   ],
   "source": [
    "df = pd.read_csv('2017_Offense_Description_Type_Count.csv')\n",
    "df.head\n",
    "\n",
    "\n",
    "#offense_zip = pd.read_csv('CSVs/2017_Offense_Description_Type_Count.csv')\n",
    "#offense_zip"
   ]
  },
  {
   "cell_type": "code",
   "execution_count": null,
   "metadata": {},
   "outputs": [],
   "source": []
  },
  {
   "cell_type": "markdown",
   "metadata": {},
   "source": [
    "## Data Observation"
   ]
  },
  {
   "cell_type": "code",
   "execution_count": 3,
   "metadata": {},
   "outputs": [
    {
     "data": {
      "text/plain": [
       "Type\n",
       "Non-Violent     63\n",
       "Property        25\n",
       "Violent         13\n",
       "Name: Count, dtype: int64"
      ]
     },
     "execution_count": 3,
     "metadata": {},
     "output_type": "execute_result"
    }
   ],
   "source": [
    "# Count how many sightings have occured within each state\n",
    "type_counts = df.groupby(\"Type\")\n",
    "type_counts[\"Type\"].count()\n",
    "type_counts[\"Count\"].count()\n",
    "\n"
   ]
  },
  {
   "cell_type": "code",
   "execution_count": 4,
   "metadata": {},
   "outputs": [
    {
     "data": {
      "text/html": [
       "<div>\n",
       "<style scoped>\n",
       "    .dataframe tbody tr th:only-of-type {\n",
       "        vertical-align: middle;\n",
       "    }\n",
       "\n",
       "    .dataframe tbody tr th {\n",
       "        vertical-align: top;\n",
       "    }\n",
       "\n",
       "    .dataframe thead th {\n",
       "        text-align: right;\n",
       "    }\n",
       "</style>\n",
       "<table border=\"1\" class=\"dataframe\">\n",
       "  <thead>\n",
       "    <tr style=\"text-align: right;\">\n",
       "      <th></th>\n",
       "      <th>Type</th>\n",
       "    </tr>\n",
       "    <tr>\n",
       "      <th>Type</th>\n",
       "      <th></th>\n",
       "    </tr>\n",
       "  </thead>\n",
       "  <tbody>\n",
       "    <tr>\n",
       "      <th>Non-Violent</th>\n",
       "      <td>63</td>\n",
       "    </tr>\n",
       "    <tr>\n",
       "      <th>Property</th>\n",
       "      <td>25</td>\n",
       "    </tr>\n",
       "    <tr>\n",
       "      <th>Violent</th>\n",
       "      <td>13</td>\n",
       "    </tr>\n",
       "  </tbody>\n",
       "</table>\n",
       "</div>"
      ],
      "text/plain": [
       "              Type\n",
       "Type              \n",
       "Non-Violent     63\n",
       "Property        25\n",
       "Violent         13"
      ]
     },
     "execution_count": 4,
     "metadata": {},
     "output_type": "execute_result"
    }
   ],
   "source": [
    "# Using GroupBy in order to separate the data into fields according to \"state\" values\n",
    "grouped_df = df.groupby(['Type'])\n",
    "\n",
    "# The object returned is a \"GroupBy\" object and cannot be viewed normally...\n",
    "#print(grouped_df[\"Type\"].count())\n",
    "\n",
    "# In order to be visualized, a data function must be used...\n",
    "grouped_df.count().head(10)\n",
    "\n",
    "grouped_df[[\"Type\"]].count()"
   ]
  },
  {
   "cell_type": "markdown",
   "metadata": {},
   "source": [
    "## Data Cleaning"
   ]
  },
  {
   "cell_type": "code",
   "execution_count": 5,
   "metadata": {
    "scrolled": true
   },
   "outputs": [
    {
     "name": "stdout",
     "output_type": "stream",
     "text": [
      "Shape:  (101, 1) (101, 1)\n"
     ]
    },
    {
     "data": {
      "text/plain": [
       "array([[  183],\n",
       "       [   14],\n",
       "       [  655],\n",
       "       [  384],\n",
       "       [    4],\n",
       "       [   17],\n",
       "       [ 1941],\n",
       "       [ 4158],\n",
       "       [ 6958],\n",
       "       [  689],\n",
       "       [ 2999],\n",
       "       [ 8227],\n",
       "       [ 2288],\n",
       "       [  153],\n",
       "       [   99],\n",
       "       [ 5796],\n",
       "       [ 9302],\n",
       "       [ 3988],\n",
       "       [  160],\n",
       "       [ 4966],\n",
       "       [   40],\n",
       "       [ 4648],\n",
       "       [ 9281],\n",
       "       [  891],\n",
       "       [ 6382],\n",
       "       [ 8857],\n",
       "       [   29],\n",
       "       [ 1593],\n",
       "       [ 1853],\n",
       "       [    5],\n",
       "       [  455],\n",
       "       [    8],\n",
       "       [  400],\n",
       "       [  425],\n",
       "       [  317],\n",
       "       [ 1659],\n",
       "       [ 1141],\n",
       "       [   52],\n",
       "       [  373],\n",
       "       [    4],\n",
       "       [   83],\n",
       "       [ 1343],\n",
       "       [   40],\n",
       "       [  527],\n",
       "       [  660],\n",
       "       [11951],\n",
       "       [ 1124],\n",
       "       [   26],\n",
       "       [   24],\n",
       "       [  165],\n",
       "       [  130],\n",
       "       [    6],\n",
       "       [  107],\n",
       "       [   83],\n",
       "       [   15],\n",
       "       [   82],\n",
       "       [  150],\n",
       "       [  399],\n",
       "       [    2],\n",
       "       [  126],\n",
       "       [ 4888],\n",
       "       [ 1574],\n",
       "       [  586],\n",
       "       [    5],\n",
       "       [  753],\n",
       "       [  447],\n",
       "       [  135],\n",
       "       [  943],\n",
       "       [  318],\n",
       "       [ 1510],\n",
       "       [   39],\n",
       "       [    2],\n",
       "       [   32],\n",
       "       [ 4104],\n",
       "       [  106],\n",
       "       [   19],\n",
       "       [  301],\n",
       "       [ 3377],\n",
       "       [  222],\n",
       "       [   18],\n",
       "       [   13],\n",
       "       [   34],\n",
       "       [    3],\n",
       "       [   14],\n",
       "       [    7],\n",
       "       [   11],\n",
       "       [   75],\n",
       "       [    4],\n",
       "       [    1],\n",
       "       [    1],\n",
       "       [    2],\n",
       "       [   11],\n",
       "       [    2],\n",
       "       [   33],\n",
       "       [    1],\n",
       "       [   11],\n",
       "       [    4],\n",
       "       [    6],\n",
       "       [    3],\n",
       "       [   84],\n",
       "       [   28]], dtype=int64)"
      ]
     },
     "execution_count": 5,
     "metadata": {},
     "output_type": "execute_result"
    }
   ],
   "source": [
    "# Assign the data to X and y\n",
    "# Note: Sklearn requires a two-dimensional array of values\n",
    "# so we use reshape to create this\n",
    "\n",
    "\n",
    "# X total offense count\n",
    "# y offense type code\n",
    "\n",
    "\n",
    "X = df.Count.values.reshape(-1, 1)\n",
    "y = df.Offense.values.reshape(-1, 1)\n",
    "\n",
    "print(\"Shape: \", X.shape, y.shape)\n",
    "X\n"
   ]
  },
  {
   "cell_type": "code",
   "execution_count": 6,
   "metadata": {},
   "outputs": [
    {
     "data": {
      "text/plain": [
       "<matplotlib.collections.PathCollection at 0x1b3fef216a0>"
      ]
     },
     "execution_count": 6,
     "metadata": {},
     "output_type": "execute_result"
    },
    {
     "data": {
      "image/png": "[encoded data removed]",
      "text/plain": [
       "<Figure size 432x288 with 1 Axes>"
      ]
     },
     "metadata": {
      "needs_background": "light"
     },
     "output_type": "display_data"
    }
   ],
   "source": [
    "# Plot the data\n",
    "\n",
    "### BEGIN SOLUTION\n",
    "\n",
    "plt.scatter(X, y)\n",
    "\n",
    "### END SOLUTION"
   ]
  },
  {
   "cell_type": "markdown",
   "metadata": {},
   "source": [
    "## ML Linear Regression"
   ]
  },
  {
   "cell_type": "code",
   "execution_count": 7,
   "metadata": {},
   "outputs": [],
   "source": [
    "# Use train_test_split to create training and testing data\n",
    "\n",
    "### BEGIN SOLUTION\n",
    "from sklearn.model_selection import train_test_split\n",
    "\n",
    "X_train, X_test, y_train, y_test = train_test_split(X, y, random_state=42)\n",
    "\n",
    "### END SOLUTION"
   ]
  },
  {
   "cell_type": "code",
   "execution_count": 8,
   "metadata": {},
   "outputs": [],
   "source": [
    "# Create the model\n",
    "\n",
    "### BEGIN SOLUTION\n",
    "\n",
    "from sklearn.linear_model import LinearRegression\n",
    "\n",
    "model = LinearRegression()\n",
    "\n",
    "### END SOLUTION"
   ]
  },
  {
   "cell_type": "code",
   "execution_count": 9,
   "metadata": {},
   "outputs": [
    {
     "data": {
      "text/plain": [
       "LinearRegression(copy_X=True, fit_intercept=True, n_jobs=None,\n",
       "         normalize=False)"
      ]
     },
     "execution_count": 9,
     "metadata": {},
     "output_type": "execute_result"
    }
   ],
   "source": [
    "# Fit the model to the training data. \n",
    "\n",
    "### BEGIN SOLUTION\n",
    "\n",
    "model.fit(X_train, y_train)\n",
    "\n",
    "### END SOLUTION"
   ]
  },
  {
   "cell_type": "markdown",
   "metadata": {},
   "source": [
    "## Result"
   ]
  },
  {
   "cell_type": "code",
   "execution_count": 10,
   "metadata": {},
   "outputs": [
    {
     "name": "stdout",
     "output_type": "stream",
     "text": [
      "Mean Squared Error (MSE): 1005615.0884743853\n",
      "R-squared (R2 ): -0.07101389672384628\n"
     ]
    }
   ],
   "source": [
    "# Calculate the mean_squared_error and the r-squared value\n",
    "# for the testing data\n",
    "\n",
    "from sklearn.metrics import mean_squared_error, r2_score\n",
    "\n",
    "### BEGIN SOLUTION\n",
    "\n",
    "# Use our model to make predictions\n",
    "predicted = model.predict(X_test)\n",
    "\n",
    "# Score the predictions with mse and r2\n",
    "mse = mean_squared_error(y_test, predicted)\n",
    "r2 = r2_score(y_test, predicted)\n",
    "\n",
    "print(f\"Mean Squared Error (MSE): {mse}\")\n",
    "print(f\"R-squared (R2 ): {r2}\")\n",
    "\n",
    "### END SOLUTION"
   ]
  },
  {
   "cell_type": "code",
   "execution_count": 11,
   "metadata": {},
   "outputs": [
    {
     "data": {
      "text/plain": [
       "-0.07101389672384628"
      ]
     },
     "execution_count": 11,
     "metadata": {},
     "output_type": "execute_result"
    }
   ],
   "source": [
    "# Call the `score` method on the model to show the r2 score\n",
    "\n",
    "### BEGIN SOLUTION\n",
    "model.score(X_test, y_test)\n",
    "### END SOLUTION"
   ]
  },
  {
   "cell_type": "code",
   "execution_count": 12,
   "metadata": {},
   "outputs": [
    {
     "name": "stdout",
     "output_type": "stream",
     "text": [
      "Weight coefficients:  [[-0.18505147]]\n",
      "y-axis intercept:  [1908.72722523]\n"
     ]
    }
   ],
   "source": [
    "# Print the coefficient and the intercept for the model\n",
    "\n",
    "### BEGIN SOLUTION\n",
    "print('Weight coefficients: ', model.coef_)\n",
    "print('y-axis intercept: ', model.intercept_)\n",
    "### END SOLUTION"
   ]
  },
  {
   "cell_type": "code",
   "execution_count": 13,
   "metadata": {},
   "outputs": [
    {
     "name": "stdout",
     "output_type": "stream",
     "text": [
      "Min X Value: [[1]]\n",
      "Max X Value: [[11951]]\n"
     ]
    }
   ],
   "source": [
    "# Note: we have to transform our min and max values\n",
    "# so they are in the format: array([[ 1.17]])\n",
    "# This is the required format for `model.predict()`\n",
    "\n",
    "x_min = np.array([[X.min()]])\n",
    "x_max = np.array([[X.max()]])\n",
    "print(f\"Min X Value: {x_min}\")\n",
    "print(f\"Max X Value: {x_max}\")"
   ]
  },
  {
   "cell_type": "code",
   "execution_count": 14,
   "metadata": {},
   "outputs": [],
   "source": [
    "# Calculate the y_min and y_max using model.predict and x_min and x_max\n",
    "\n",
    "### BEGIN SOLUTION\n",
    "y_min = model.predict(x_min)\n",
    "y_max = model.predict(x_max)\n",
    "### END SOLUTION"
   ]
  },
  {
   "cell_type": "code",
   "execution_count": 15,
   "metadata": {},
   "outputs": [
    {
     "data": {
      "text/plain": [
       "Text(0, 0.5, 'Offense Type Code')"
      ]
     },
     "execution_count": 15,
     "metadata": {},
     "output_type": "execute_result"
    },
    {
     "data": {
      "image/png": "[encoded data removed]",
      "text/plain": [
       "<Figure size 432x288 with 1 Axes>"
      ]
     },
     "metadata": {
      "needs_background": "light"
     },
     "output_type": "display_data"
    }
   ],
   "source": [
    "# Plot X and y using plt.scatter\n",
    "# Plot the model fit line using [x_min[0], x_max[0]], [y_min[0], y_max[0]]\n",
    "\n",
    "### BEGIN SOLUTION\n",
    "plt.scatter(X, y, c='green')\n",
    "plt.plot([x_min[0], x_max[0]], [y_min[0], y_max[0]], c='red')\n",
    "\n",
    "plt.xlabel(\"Total Offense Count\")\n",
    "plt.ylabel(\"Offense Type Code\")\n",
    "### END SOLUTION"
   ]
  },
  {
   "cell_type": "code",
   "execution_count": null,
   "metadata": {},
   "outputs": [],
   "source": []
  }
 ],
 "metadata": {
  "hide_input": false,
  "kernelspec": {
   "display_name": "Python 3",
   "language": "python",
   "name": "python3"
  },
  "language_info": {
   "codemirror_mode": {
    "name": "ipython",
    "version": 3
   },
   "file_extension": ".py",
   "mimetype": "text/x-python",
   "name": "python",
   "nbconvert_exporter": "python",
   "pygments_lexer": "ipython3",
   "version": "3.6.7"
  },
  "toc": {
   "base_numbering": 1,
   "nav_menu": {},
   "number_sections": true,
   "sideBar": true,
   "skip_h1_title": false,
   "title_cell": "Table of Contents",
   "title_sidebar": "Contents",
   "toc_cell": false,
   "toc_position": {},
   "toc_section_display": true,
   "toc_window_display": false
  },
  "varInspector": {
   "cols": {
    "lenName": 16,
    "lenType": 16,
    "lenVar": 40
   },
   "kernels_config": {
    "python": {
     "delete_cmd_postfix": "",
     "delete_cmd_prefix": "del ",
     "library": "var_list.py",
     "varRefreshCmd": "print(var_dic_list())"
    },
    "r": {
     "delete_cmd_postfix": ") ",
     "delete_cmd_prefix": "rm(",
     "library": "var_list.r",
     "varRefreshCmd": "cat(var_dic_list()) "
    }
   },
   "types_to_exclude": [
    "module",
    "function",
    "builtin_function_or_method",
    "instance",
    "_Feature"
   ],
   "window_display": false
  }
 },
 "nbformat": 4,
 "nbformat_minor": 2
}
