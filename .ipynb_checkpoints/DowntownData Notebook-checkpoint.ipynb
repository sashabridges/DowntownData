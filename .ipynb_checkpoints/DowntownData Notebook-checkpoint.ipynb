{
 "cells": [
  {
   "cell_type": "code",
   "execution_count": 1,
   "metadata": {},
   "outputs": [],
   "source": [
    "# Dependencies\n",
    "import os\n",
    "import requests\n",
    "import pymongo\n",
    "import pandas as pd\n",
    "import csv\n",
    "import datetime as dt\n",
    "from sqlalchemy import create_engine\n",
    "from sqlalchemy.ext.automap import automap_base\n",
    "from sqlalchemy.orm import Session\n",
    "from sqlalchemy import inspect, func"
   ]
  },
  {
   "cell_type": "code",
   "execution_count": null,
   "metadata": {},
   "outputs": [],
   "source": [
    "# create the database engine\n",
    "#engine = create_engine(\"sqlite:///../Resources/dow.sqlite\", echo=False)"
   ]
  },
  {
   "cell_type": "code",
   "execution_count": null,
   "metadata": {},
   "outputs": [],
   "source": [
    "# create an inspector for the engine\n",
    "#inspector = inspect(engine)\n",
    "#inspector.get_table_names()"
   ]
  },
  {
   "cell_type": "code",
   "execution_count": null,
   "metadata": {},
   "outputs": [],
   "source": [
    "# Get a list of column names and types\n",
    "#columns = inspector.get_columns('dow')\n",
    "#for c in columns:\n",
    "#    print(c['name'], c[\"type\"])"
   ]
  },
  {
   "cell_type": "code",
   "execution_count": null,
   "metadata": {},
   "outputs": [],
   "source": [
    "# view all data\n",
    "#engine.execute('SELECT * FROM dow LIMIT 5').fetchall()"
   ]
  },
  {
   "cell_type": "code",
   "execution_count": null,
   "metadata": {},
   "outputs": [],
   "source": [
    "# Reflect Database into ORM class\n",
    "#Base = automap_base()\n",
    "#Base.prepare(engine, reflect=True)\n",
    "#Dow = Base.classes.dow"
   ]
  },
  {
   "cell_type": "code",
   "execution_count": null,
   "metadata": {},
   "outputs": [],
   "source": [
    "# review CSV files"
   ]
  },
  {
   "cell_type": "code",
   "execution_count": null,
   "metadata": {},
   "outputs": [],
   "source": [
    "# make dataframes out of CSV files"
   ]
  },
  {
   "cell_type": "code",
   "execution_count": null,
   "metadata": {},
   "outputs": [],
   "source": [
    "# put new data frames into sql database"
   ]
  },
  {
   "cell_type": "code",
   "execution_count": null,
   "metadata": {},
   "outputs": [],
   "source": [
    "# verify that sql database works"
   ]
  },
  {
   "cell_type": "code",
   "execution_count": 15,
   "metadata": {},
   "outputs": [
    {
     "name": "stdout",
     "output_type": "stream",
     "text": [
      "0\n",
      "0\n",
      "0\n",
      "0\n",
      "0\n",
      "0\n",
      "0\n",
      "0\n",
      "0\n",
      "0\n"
     ]
    }
   ],
   "source": [
    "#query_url = \"https://services.arcgis.com/VTyQ9soqVukalItT/arcgis/rest/services/Location_Affordability_Index_v3/FeatureServer/0/query?where=1%3D1&outFields=*&outSR=4326&f=json\"\n",
    "# Location Affordability Index URL\n",
    "#response = requests.get(query_url).json()\n",
    "\n",
    "#househound = []\n",
    "#owner_oc = []\n",
    "#renter_oc = []\n",
    "#med_mort = []\n",
    "#med_rent = []\n",
    "#avg_h = []\n",
    "#med_income = []\n",
    "#block_dense = []\n",
    "#job_dense = []\n",
    "#retail_dense = []\n",
    "\n",
    "#for responses in response:\n",
    "#    if (response['features'][0]['attributes']['STUSAB'] == 'MO'):\n",
    "#        househound.append(response['features'][0]['attributes']['households'])\n",
    "#        print(response['features'][0]['attributes']['households'])\n",
    "#        owner_oc.append(response['features'][0]['attributes']['owner_occupied_hu'])\n",
    "#        renter_oc.append(response['features'][0]['attributes']['renter_occupied_hu'])\n",
    "#        med_mort.append(response['features'][0]['attributes']['median_smoc_mortgage'])\n",
    "#        med_rent.append(response['features'][0]['attributes']['median_gross_rent'])\n",
    "#        avg_h.append(response['features'][0]['attributes']['avg_h_cost'])\n",
    "#        med_income.append(response['features'][0]['attributes']['median_hh_income'])\n",
    "#        block_dense.append(response['features'][0]['attributes']['block_density'])\n",
    "#        job_dense.append(response['features'][0]['attributes']['job_density_simple'])\n",
    "#        retail_dense.append(response['features'][0]['attributes']['retail_density_simple'])"
   ]
  },
  {
   "cell_type": "code",
   "execution_count": 12,
   "metadata": {},
   "outputs": [
    {
     "name": "stdout",
     "output_type": "stream",
     "text": [
      "[3773, 3773, 3773, 3773, 3773, 3773, 3773, 3773, 3773]\n",
      "[3335, 3335, 3335, 3335, 3335, 3335, 3335, 3335, 3335]\n",
      "[438, 438, 438, 438, 438, 438, 438, 438, 438]\n"
     ]
    }
   ],
   "source": []
  },
  {
   "cell_type": "code",
   "execution_count": null,
   "metadata": {},
   "outputs": [],
   "source": []
  }
 ],
 "metadata": {
  "kernelspec": {
   "display_name": "Python 3",
   "language": "python",
   "name": "python3"
  },
  "language_info": {
   "codemirror_mode": {
    "name": "ipython",
    "version": 3
   },
   "file_extension": ".py",
   "mimetype": "text/x-python",
   "name": "python",
   "nbconvert_exporter": "python",
   "pygments_lexer": "ipython3",
   "version": "3.6.7"
  }
 },
 "nbformat": 4,
 "nbformat_minor": 2
}
