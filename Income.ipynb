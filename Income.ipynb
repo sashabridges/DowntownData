{
 "cells": [
  {
   "cell_type": "code",
   "execution_count": 1,
   "metadata": {
    "collapsed": true
   },
   "outputs": [],
   "source": [
    "# Import dependencies\n",
    "import pandas as pd"
   ]
  },
  {
   "cell_type": "code",
   "execution_count": 33,
   "metadata": {
    "scrolled": true
   },
   "outputs": [
    {
     "data": {
      "text/html": [
       "<div>\n",
       "<style scoped>\n",
       "    .dataframe tbody tr th:only-of-type {\n",
       "        vertical-align: middle;\n",
       "    }\n",
       "\n",
       "    .dataframe tbody tr th {\n",
       "        vertical-align: top;\n",
       "    }\n",
       "\n",
       "    .dataframe thead th {\n",
       "        text-align: right;\n",
       "    }\n",
       "</style>\n",
       "<table border=\"1\" class=\"dataframe\">\n",
       "  <thead>\n",
       "    <tr style=\"text-align: right;\">\n",
       "      <th></th>\n",
       "      <th>ID Year</th>\n",
       "      <th>Year</th>\n",
       "      <th>Household Income by Race</th>\n",
       "      <th>Household Income by Race Moe</th>\n",
       "      <th>Geography</th>\n",
       "      <th>ID Geography</th>\n",
       "      <th>Slug Geography</th>\n",
       "    </tr>\n",
       "  </thead>\n",
       "  <tbody>\n",
       "    <tr>\n",
       "      <th>0</th>\n",
       "      <td>2017</td>\n",
       "      <td>2017</td>\n",
       "      <td>51330</td>\n",
       "      <td>1346</td>\n",
       "      <td>Kansas City, MO</td>\n",
       "      <td>16000US2938000</td>\n",
       "      <td>kansas-city-mo</td>\n",
       "    </tr>\n",
       "    <tr>\n",
       "      <th>1</th>\n",
       "      <td>2016</td>\n",
       "      <td>2016</td>\n",
       "      <td>51235</td>\n",
       "      <td>1346</td>\n",
       "      <td>Kansas City, MO</td>\n",
       "      <td>16000US2938000</td>\n",
       "      <td>kansas-city-mo</td>\n",
       "    </tr>\n",
       "    <tr>\n",
       "      <th>2</th>\n",
       "      <td>2015</td>\n",
       "      <td>2015</td>\n",
       "      <td>50259</td>\n",
       "      <td>2269</td>\n",
       "      <td>Kansas City, MO</td>\n",
       "      <td>16000US2938000</td>\n",
       "      <td>kansas-city-mo</td>\n",
       "    </tr>\n",
       "    <tr>\n",
       "      <th>3</th>\n",
       "      <td>2014</td>\n",
       "      <td>2014</td>\n",
       "      <td>44173</td>\n",
       "      <td>1855</td>\n",
       "      <td>Kansas City, MO</td>\n",
       "      <td>16000US2938000</td>\n",
       "      <td>kansas-city-mo</td>\n",
       "    </tr>\n",
       "  </tbody>\n",
       "</table>\n",
       "</div>"
      ],
      "text/plain": [
       "   ID Year  Year  Household Income by Race  Household Income by Race Moe  \\\n",
       "0     2017  2017                     51330                          1346   \n",
       "1     2016  2016                     51235                          1346   \n",
       "2     2015  2015                     50259                          2269   \n",
       "3     2014  2014                     44173                          1855   \n",
       "\n",
       "         Geography    ID Geography  Slug Geography  \n",
       "0  Kansas City, MO  16000US2938000  kansas-city-mo  \n",
       "1  Kansas City, MO  16000US2938000  kansas-city-mo  \n",
       "2  Kansas City, MO  16000US2938000  kansas-city-mo  \n",
       "3  Kansas City, MO  16000US2938000  kansas-city-mo  "
      ]
     },
     "execution_count": 33,
     "metadata": {},
     "output_type": "execute_result"
    }
   ],
   "source": [
    "file = \"Median Household Inc.csv\"\n",
    "\n",
    "# Read our data into pandas\n",
    "df = pd.read_csv(file)\n",
    "df.head(10)"
   ]
  },
  {
   "cell_type": "code",
   "execution_count": 30,
   "metadata": {},
   "outputs": [
    {
     "data": {
      "text/plain": [
       "Index(['ID Year', 'Year', 'Household Income by Race',\n",
       "       'Household Income by Race Moe', 'Geography', 'ID Geography',\n",
       "       'Slug Geography'],\n",
       "      dtype='object')"
      ]
     },
     "execution_count": 30,
     "metadata": {},
     "output_type": "execute_result"
    }
   ],
   "source": [
    "df.columns"
   ]
  },
  {
   "cell_type": "code",
   "execution_count": 31,
   "metadata": {
    "scrolled": false
   },
   "outputs": [
    {
     "data": {
      "text/html": [
       "<div>\n",
       "<style scoped>\n",
       "    .dataframe tbody tr th:only-of-type {\n",
       "        vertical-align: middle;\n",
       "    }\n",
       "\n",
       "    .dataframe tbody tr th {\n",
       "        vertical-align: top;\n",
       "    }\n",
       "\n",
       "    .dataframe thead th {\n",
       "        text-align: right;\n",
       "    }\n",
       "</style>\n",
       "<table border=\"1\" class=\"dataframe\">\n",
       "  <thead>\n",
       "    <tr style=\"text-align: right;\">\n",
       "      <th></th>\n",
       "      <th>Year</th>\n",
       "      <th>Household Income by Race</th>\n",
       "      <th>Geography</th>\n",
       "    </tr>\n",
       "  </thead>\n",
       "  <tbody>\n",
       "    <tr>\n",
       "      <th>0</th>\n",
       "      <td>2017</td>\n",
       "      <td>51330</td>\n",
       "      <td>Kansas City, MO</td>\n",
       "    </tr>\n",
       "    <tr>\n",
       "      <th>1</th>\n",
       "      <td>2016</td>\n",
       "      <td>51235</td>\n",
       "      <td>Kansas City, MO</td>\n",
       "    </tr>\n",
       "    <tr>\n",
       "      <th>2</th>\n",
       "      <td>2015</td>\n",
       "      <td>50259</td>\n",
       "      <td>Kansas City, MO</td>\n",
       "    </tr>\n",
       "    <tr>\n",
       "      <th>3</th>\n",
       "      <td>2014</td>\n",
       "      <td>44173</td>\n",
       "      <td>Kansas City, MO</td>\n",
       "    </tr>\n",
       "  </tbody>\n",
       "</table>\n",
       "</div>"
      ],
      "text/plain": [
       "   Year  Household Income by Race        Geography\n",
       "0  2017                     51330  Kansas City, MO\n",
       "1  2016                     51235  Kansas City, MO\n",
       "2  2015                     50259  Kansas City, MO\n",
       "3  2014                     44173  Kansas City, MO"
      ]
     },
     "execution_count": 31,
     "metadata": {},
     "output_type": "execute_result"
    }
   ],
   "source": [
    "reduced_df = df.loc[:, [\"Year\", \"Household Income by Race\", \"Geography\",]]\n",
    "reduced_df"
   ]
  },
  {
   "cell_type": "code",
   "execution_count": null,
   "metadata": {},
   "outputs": [],
   "source": []
  }
 ],
 "metadata": {
  "kernelspec": {
   "display_name": "Python 3",
   "language": "python",
   "name": "python3"
  },
  "language_info": {
   "codemirror_mode": {
    "name": "ipython",
    "version": 3
   },
   "file_extension": ".py",
   "mimetype": "text/x-python",
   "name": "python",
   "nbconvert_exporter": "python",
   "pygments_lexer": "ipython3",
   "version": "3.7.1"
  }
 },
 "nbformat": 4,
 "nbformat_minor": 2
}
